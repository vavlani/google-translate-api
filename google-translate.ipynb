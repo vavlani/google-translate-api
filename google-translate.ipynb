{
 "cells": [
  {
   "cell_type": "markdown",
   "metadata": {},
   "source": [
    "## Using Google-Translate API to translate texts to different languages\n",
    "\n",
    "Under their AI & ML offerings, __google__ allows users to access their translation API which powers their Google Translate product. In recent years, Google has made huge strides in terms of improving their NLP capabilites and it would be very difficult for any developer to come up with their own translation toolkit. \n",
    "\n",
    "So for any translation use case, it makes sense for us to utilize the APIs that are provided by Google for translation. This page points you to the official page: [Google Translate API](https://cloud.google.com/translate/)\n"
   ]
  },
  {
   "cell_type": "markdown",
   "metadata": {},
   "source": [
    "### This walk-through aims to guide you through a barebones implementation of a translation using this API\n",
    "\n",
    "We would be writing a function which takes in a text input and outputs the translated text given a target languge. Google's service is very good at detecting the source language of the text input so giving that input is optional.\n",
    "\n",
    "#### Following packages should be installed:\n",
    "- google-cloud\n",
    "- google-cloud-translate\n",
    "- google-api-python-client"
   ]
  },
  {
   "cell_type": "code",
   "execution_count": 28,
   "metadata": {},
   "outputs": [],
   "source": [
    "from google.cloud import translate\n",
    "import os"
   ]
  },
  {
   "cell_type": "code",
   "execution_count": 31,
   "metadata": {},
   "outputs": [],
   "source": [
    "# cred_file points to the API key that you would need to download from Google\n",
    "# The key should be enabled to use the credential file\n",
    "cred_file = r'C:\\Users\\Vivek\\Documents\\learn stuff\\fall\\unstructured\\google-translate--vavlani-71362c26d436.json'\n",
    "os.environ['GOOGLE_APPLICATION_CREDENTIALS'] = cred_file"
   ]
  },
  {
   "cell_type": "markdown",
   "metadata": {},
   "source": [
    "### `tr_text` function is the main function which takes in a text string and converts it to a target language\n",
    "\n",
    "You just need to initialize the `Client()` from the translate module of `google.cloud`\n",
    "The call to translate just specifies the target_language & text"
   ]
  },
  {
   "cell_type": "code",
   "execution_count": 33,
   "metadata": {},
   "outputs": [],
   "source": [
    "def tr_text(text, target='en'):\n",
    "    tr_client = translate.Client()\n",
    "    result = tr_client.translate(text, target_language=target)\n",
    "    print(f'Original Text: {result[\"input\"]}')\n",
    "    print(f'Translation: {result[\"translatedText\"]}')\n",
    "    print(f'Detected Source Language: {result[\"detectedSourceLanguage\"]}')\n",
    "    return result"
   ]
  },
  {
   "cell_type": "markdown",
   "metadata": {},
   "source": [
    "### Here we convert a text from Hindi to English using the function that we just wrote"
   ]
  },
  {
   "cell_type": "code",
   "execution_count": 26,
   "metadata": {},
   "outputs": [
    {
     "name": "stdout",
     "output_type": "stream",
     "text": [
      "Original Text: इस पृष्ठ पर इन्टरनेट पर उपलब्ध विभिन्न हिन्दी एवं देवनागरी सम्बंधित साधनों की कड़ियों की सूची है। इसमें ऑनलाइन एवं ऑफ़लाइन उपकरण (टूल्स) शामिल हैं।\n",
      "Translation: This page on the internet is a list of links to various resources related to Hindi and the Devanagari. This includes online and offline tools (tools).\n",
      "Detected Source Language: hi\n"
     ]
    }
   ],
   "source": [
    "demo_text = \"इस पृष्ठ पर इन्टरनेट पर उपलब्ध विभिन्न हिन्दी एवं देवनागरी सम्बंधित साधनों की कड़ियों की सूची है। इसमें ऑनलाइन एवं ऑफ़लाइन उपकरण (टूल्स) शामिल हैं।\"\n",
    "result = tr_text(demo_text)"
   ]
  },
  {
   "cell_type": "code",
   "execution_count": 35,
   "metadata": {},
   "outputs": [
    {
     "name": "stdout",
     "output_type": "stream",
     "text": [
      "{'translatedText': 'This page on the internet is a list of links to various resources related to Hindi and the Devanagari. This includes online and offline tools (tools).', 'detectedSourceLanguage': 'hi', 'input': 'इस पृष्ठ पर इन्टरनेट पर उपलब्ध विभिन्न हिन्दी एवं देवनागरी सम्बंधित साधनों की कड़ियों की सूची है। इसमें ऑनलाइन एवं ऑफ़लाइन उपकरण (टूल्स) शामिल हैं।'}\n"
     ]
    }
   ],
   "source": [
    "print(result)"
   ]
  },
  {
   "cell_type": "markdown",
   "metadata": {},
   "source": [
    "### Available Languages\n",
    "\n",
    "There are a lot of languages available in the API right now and this list should keep growing. Below we see a mapping from language to language name"
   ]
  },
  {
   "cell_type": "code",
   "execution_count": 15,
   "metadata": {},
   "outputs": [
    {
     "data": {
      "text/plain": [
       "[{'language': 'af', 'name': 'Afrikaans'},\n",
       " {'language': 'sq', 'name': 'Albanian'},\n",
       " {'language': 'am', 'name': 'Amharic'},\n",
       " {'language': 'ar', 'name': 'Arabic'},\n",
       " {'language': 'hy', 'name': 'Armenian'},\n",
       " {'language': 'az', 'name': 'Azerbaijani'},\n",
       " {'language': 'eu', 'name': 'Basque'},\n",
       " {'language': 'be', 'name': 'Belarusian'},\n",
       " {'language': 'bn', 'name': 'Bengali'},\n",
       " {'language': 'bs', 'name': 'Bosnian'},\n",
       " {'language': 'bg', 'name': 'Bulgarian'},\n",
       " {'language': 'ca', 'name': 'Catalan'},\n",
       " {'language': 'ceb', 'name': 'Cebuano'},\n",
       " {'language': 'ny', 'name': 'Chichewa'},\n",
       " {'language': 'zh', 'name': 'Chinese (Simplified)'},\n",
       " {'language': 'zh-TW', 'name': 'Chinese (Traditional)'},\n",
       " {'language': 'co', 'name': 'Corsican'},\n",
       " {'language': 'hr', 'name': 'Croatian'},\n",
       " {'language': 'cs', 'name': 'Czech'},\n",
       " {'language': 'da', 'name': 'Danish'},\n",
       " {'language': 'nl', 'name': 'Dutch'},\n",
       " {'language': 'en', 'name': 'English'},\n",
       " {'language': 'eo', 'name': 'Esperanto'},\n",
       " {'language': 'et', 'name': 'Estonian'},\n",
       " {'language': 'tl', 'name': 'Filipino'},\n",
       " {'language': 'fi', 'name': 'Finnish'},\n",
       " {'language': 'fr', 'name': 'French'},\n",
       " {'language': 'fy', 'name': 'Frisian'},\n",
       " {'language': 'gl', 'name': 'Galician'},\n",
       " {'language': 'ka', 'name': 'Georgian'},\n",
       " {'language': 'de', 'name': 'German'},\n",
       " {'language': 'el', 'name': 'Greek'},\n",
       " {'language': 'gu', 'name': 'Gujarati'},\n",
       " {'language': 'ht', 'name': 'Haitian Creole'},\n",
       " {'language': 'ha', 'name': 'Hausa'},\n",
       " {'language': 'haw', 'name': 'Hawaiian'},\n",
       " {'language': 'iw', 'name': 'Hebrew'},\n",
       " {'language': 'hi', 'name': 'Hindi'},\n",
       " {'language': 'hmn', 'name': 'Hmong'},\n",
       " {'language': 'hu', 'name': 'Hungarian'},\n",
       " {'language': 'is', 'name': 'Icelandic'},\n",
       " {'language': 'ig', 'name': 'Igbo'},\n",
       " {'language': 'id', 'name': 'Indonesian'},\n",
       " {'language': 'ga', 'name': 'Irish'},\n",
       " {'language': 'it', 'name': 'Italian'},\n",
       " {'language': 'ja', 'name': 'Japanese'},\n",
       " {'language': 'jw', 'name': 'Javanese'},\n",
       " {'language': 'kn', 'name': 'Kannada'},\n",
       " {'language': 'kk', 'name': 'Kazakh'},\n",
       " {'language': 'km', 'name': 'Khmer'},\n",
       " {'language': 'ko', 'name': 'Korean'},\n",
       " {'language': 'ku', 'name': 'Kurdish (Kurmanji)'},\n",
       " {'language': 'ky', 'name': 'Kyrgyz'},\n",
       " {'language': 'lo', 'name': 'Lao'},\n",
       " {'language': 'la', 'name': 'Latin'},\n",
       " {'language': 'lv', 'name': 'Latvian'},\n",
       " {'language': 'lt', 'name': 'Lithuanian'},\n",
       " {'language': 'lb', 'name': 'Luxembourgish'},\n",
       " {'language': 'mk', 'name': 'Macedonian'},\n",
       " {'language': 'mg', 'name': 'Malagasy'},\n",
       " {'language': 'ms', 'name': 'Malay'},\n",
       " {'language': 'ml', 'name': 'Malayalam'},\n",
       " {'language': 'mt', 'name': 'Maltese'},\n",
       " {'language': 'mi', 'name': 'Maori'},\n",
       " {'language': 'mr', 'name': 'Marathi'},\n",
       " {'language': 'mn', 'name': 'Mongolian'},\n",
       " {'language': 'my', 'name': 'Myanmar (Burmese)'},\n",
       " {'language': 'ne', 'name': 'Nepali'},\n",
       " {'language': 'no', 'name': 'Norwegian'},\n",
       " {'language': 'ps', 'name': 'Pashto'},\n",
       " {'language': 'fa', 'name': 'Persian'},\n",
       " {'language': 'pl', 'name': 'Polish'},\n",
       " {'language': 'pt', 'name': 'Portuguese'},\n",
       " {'language': 'pa', 'name': 'Punjabi'},\n",
       " {'language': 'ro', 'name': 'Romanian'},\n",
       " {'language': 'ru', 'name': 'Russian'},\n",
       " {'language': 'sm', 'name': 'Samoan'},\n",
       " {'language': 'gd', 'name': 'Scots Gaelic'},\n",
       " {'language': 'sr', 'name': 'Serbian'},\n",
       " {'language': 'st', 'name': 'Sesotho'},\n",
       " {'language': 'sn', 'name': 'Shona'},\n",
       " {'language': 'sd', 'name': 'Sindhi'},\n",
       " {'language': 'si', 'name': 'Sinhala'},\n",
       " {'language': 'sk', 'name': 'Slovak'},\n",
       " {'language': 'sl', 'name': 'Slovenian'},\n",
       " {'language': 'so', 'name': 'Somali'},\n",
       " {'language': 'es', 'name': 'Spanish'},\n",
       " {'language': 'su', 'name': 'Sundanese'},\n",
       " {'language': 'sw', 'name': 'Swahili'},\n",
       " {'language': 'sv', 'name': 'Swedish'},\n",
       " {'language': 'tg', 'name': 'Tajik'},\n",
       " {'language': 'ta', 'name': 'Tamil'},\n",
       " {'language': 'te', 'name': 'Telugu'},\n",
       " {'language': 'th', 'name': 'Thai'},\n",
       " {'language': 'tr', 'name': 'Turkish'},\n",
       " {'language': 'uk', 'name': 'Ukrainian'},\n",
       " {'language': 'ur', 'name': 'Urdu'},\n",
       " {'language': 'uz', 'name': 'Uzbek'},\n",
       " {'language': 'vi', 'name': 'Vietnamese'},\n",
       " {'language': 'cy', 'name': 'Welsh'},\n",
       " {'language': 'xh', 'name': 'Xhosa'},\n",
       " {'language': 'yi', 'name': 'Yiddish'},\n",
       " {'language': 'yo', 'name': 'Yoruba'},\n",
       " {'language': 'zu', 'name': 'Zulu'}]"
      ]
     },
     "execution_count": 15,
     "metadata": {},
     "output_type": "execute_result"
    }
   ],
   "source": [
    "tr_client = translate.Client()\n",
    "tr_client.get_languages()"
   ]
  }
 ],
 "metadata": {
  "kernelspec": {
   "display_name": "Python 3",
   "language": "python",
   "name": "python3"
  },
  "language_info": {
   "codemirror_mode": {
    "name": "ipython",
    "version": 3
   },
   "file_extension": ".py",
   "mimetype": "text/x-python",
   "name": "python",
   "nbconvert_exporter": "python",
   "pygments_lexer": "ipython3",
   "version": "3.6.4"
  }
 },
 "nbformat": 4,
 "nbformat_minor": 2
}
